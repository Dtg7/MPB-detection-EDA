{
 "cells": [
  {
   "cell_type": "code",
   "execution_count": 4,
   "metadata": {},
   "outputs": [
    {
     "name": "stdout",
     "output_type": "stream",
     "text": [
      "The estimated Norwood stage is: Norwood Stage 3\n"
     ]
    }
   ],
   "source": [
    "def refined_norwood_prediction(group):\n",
    "    \"\"\"\n",
    "    Refines the Norwood stage prediction within a given group based on user input for age, smoking status, and race.\n",
    "\n",
    "    Args:\n",
    "    - group (int): Initial group prediction (1 to 4).\n",
    "\n",
    "    Returns:\n",
    "    - str: A string describing the refined Norwood stage.\n",
    "    \"\"\"\n",
    "    # Prompt user for age\n",
    "    age = int(input(\"Enter age: \"))\n",
    "    \n",
    "    # Prompt user for smoking status with simplified inputs\n",
    "    smokes_input = input(\"Does the person smoke? (y/n): \").lower()\n",
    "    smokes = smokes_input == 'y'\n",
    "    \n",
    "    # Prompt user for race with simplified inputs\n",
    "    race_input = input(\"Enter race (a: Asian, b: Black, c: Caucasian): \").lower()\n",
    "    race_dict = {'a': 'Asian', 'b': 'Black', 'c': 'Caucasian'}\n",
    "    race = race_dict.get(race_input, \"Unknown\")\n",
    "\n",
    "    # Normalize the age\n",
    "    normalized_age = (age - 39.67) / 17.73\n",
    "    \n",
    "    # Define the correlation scores for races\n",
    "    race_scores = {'Asian': 0.183, 'Caucasian': -0.04, 'Black': -0.145}\n",
    "    \n",
    "    # Calculate the base score using normalized age and including smoking and race directly\n",
    "    base_score = normalized_age * 0.88 + (1 if smokes else 0) * 0.64 + race_scores.get(race, 0)\n",
    "    \n",
    "    # Define thresholds for deciding within each group\n",
    "    thresholds = {1: -0.92, 2: -0.5, 3: 1.0, 4: 1.75}\n",
    "    \n",
    "    # Determine the specific stage within the group based on the threshold\n",
    "    if group == 1:\n",
    "        return \"Norwood Stage 1\"\n",
    "    elif group == 2:\n",
    "        return \"Norwood Stage 3\" if base_score > thresholds[2] else \"Norwood Stage 2\"\n",
    "    elif group == 3:\n",
    "        return \"Norwood Stage 5\" if base_score > thresholds[3] else \"Norwood Stage 4\"\n",
    "    elif group == 4:\n",
    "        return \"Norwood Stage 7\" if base_score > thresholds[4] else \"Norwood Stage 6\"\n",
    "    else:\n",
    "        return \"Unknown Group\"\n",
    "\n",
    "# Example usage\n",
    "predicted_group = 2  # This should be set based on some other input or logic\n",
    "\n",
    "# Call the function with the group input\n",
    "predicted_stage = refined_norwood_prediction(predicted_group)\n",
    "print(f\"The estimated Norwood stage is: {predicted_stage}\")\n"
   ]
  },
  {
   "cell_type": "code",
   "execution_count": null,
   "metadata": {},
   "outputs": [],
   "source": []
  }
 ],
 "metadata": {
  "kernelspec": {
   "display_name": "base",
   "language": "python",
   "name": "python3"
  },
  "language_info": {
   "codemirror_mode": {
    "name": "ipython",
    "version": 3
   },
   "file_extension": ".py",
   "mimetype": "text/x-python",
   "name": "python",
   "nbconvert_exporter": "python",
   "pygments_lexer": "ipython3",
   "version": "3.12.4"
  }
 },
 "nbformat": 4,
 "nbformat_minor": 2
}
